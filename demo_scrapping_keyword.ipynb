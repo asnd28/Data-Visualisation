{
 "cells": [
  {
   "cell_type": "code",
   "execution_count": 19,
   "metadata": {},
   "outputs": [],
   "source": [
    "#import the libraries\n",
    "import os\n",
    "import tweepy as tw\n",
    "import pandas as pd\n",
    "import numpy as np\n",
    "import re\n",
    "import string"
   ]
  },
  {
   "cell_type": "markdown",
   "metadata": {},
   "source": [
    "# Scraping the Twitter data: Tweepy "
   ]
  },
  {
   "cell_type": "markdown",
   "metadata": {},
   "source": [
    "Input the API from your personal Twitter account"
   ]
  },
  {
   "cell_type": "code",
   "execution_count": null,
   "metadata": {},
   "outputs": [],
   "source": [
    "#create the variables\n",
    "API_key = '...'\n",
    "API_secret = '...'\n",
    "\n",
    "access_token = '...'\n",
    "access_token_secret = '...'\n",
    "\n",
    "auth = tw.OAuthHandler(API_key, API_secret)\n",
    "auth.set_access_token(access_token, access_token_secret)\n",
    "\n",
    "api = tw.API(auth,wait_on_rate_limit=True)"
   ]
  },
  {
   "cell_type": "markdown",
   "metadata": {},
   "source": [
    "For this case, the scraping was performed based on a searching method. The input parameter is the SNS name as a keyword (Twitter, Facebook, Instagram, or TikTok) -- you may do it parallel as well --, and the posting's timestamp is during December 2020. Additionally, only tweets using English that was being grabbed, and the amount is limited to 1000 items (to save the scraping time, the more data you scrape, the more time for your PC to run the process)."
   ]
  },
  {
   "cell_type": "code",
   "execution_count": 54,
   "metadata": {
    "jupyter": {
     "source_hidden": true
    }
   },
   "outputs": [],
   "source": [
    "search_word = 'Facebook'\n",
    "date_since = '2018-12-01'"
   ]
  },
  {
   "cell_type": "code",
   "execution_count": 55,
   "metadata": {
    "jupyter": {
     "outputs_hidden": true,
     "source_hidden": true
    }
   },
   "outputs": [],
   "source": [
    "tweets = tw.Cursor(api.search,\n",
    "                   q = search_word, \n",
    "                   lang='en',\n",
    "                   since = date_since).items(1000)"
   ]
  },
  {
   "cell_type": "code",
   "execution_count": null,
   "metadata": {
    "jupyter": {
     "source_hidden": true
    }
   },
   "outputs": [],
   "source": [
    "tweets_details = [[tweet.text,tweet.created_at] for tweet in tweets]\n",
    "#tweets_details"
   ]
  },
  {
   "cell_type": "code",
   "execution_count": 25,
   "metadata": {},
   "outputs": [],
   "source": [
    "#put the data into Pandas dataframe format\n",
    "\n",
    "df = pd.DataFrame(data=tweets_details,columns=['text','timestamp'])\n",
    "pd.set_option('max_colwidth',800)\n",
    "df.head()\n",
    "#len(df)"
   ]
  },
  {
   "cell_type": "markdown",
   "metadata": {},
   "source": [
    "# Data Cleaning: RE"
   ]
  },
  {
   "cell_type": "markdown",
   "metadata": {},
   "source": [
    "Because Twitter posting may allow various kind of characters. Therefore, it is better for you to carefully clean your data for a better analysis results."
   ]
  },
  {
   "cell_type": "code",
   "execution_count": 26,
   "metadata": {
    "collapsed": true
   },
   "outputs": [
    {
     "data": {
      "text/html": [
       "<div>\n",
       "<style scoped>\n",
       "    .dataframe tbody tr th:only-of-type {\n",
       "        vertical-align: middle;\n",
       "    }\n",
       "\n",
       "    .dataframe tbody tr th {\n",
       "        vertical-align: top;\n",
       "    }\n",
       "\n",
       "    .dataframe thead th {\n",
       "        text-align: right;\n",
       "    }\n",
       "</style>\n",
       "<table border=\"1\" class=\"dataframe\">\n",
       "  <thead>\n",
       "    <tr style=\"text-align: right;\">\n",
       "      <th></th>\n",
       "      <th>text</th>\n",
       "      <th>timestamp</th>\n",
       "    </tr>\n",
       "  </thead>\n",
       "  <tbody>\n",
       "    <tr>\n",
       "      <th>0</th>\n",
       "      <td>RT @albertraqueno: opened facebook and saw a post about the murder. you know what’s alarming? they’re tagging raffy tulfo. a lot of people…</td>\n",
       "      <td>2020-12-21 00:11:22</td>\n",
       "    </tr>\n",
       "    <tr>\n",
       "      <th>1</th>\n",
       "      <td>RT @penguningning: Hueningkai's uncle posted this on facebook and i'm SHOOK\\n@TXT_members @TXT_bighit https://t.co/fWZA1XBOcg</td>\n",
       "      <td>2020-12-21 00:11:21</td>\n",
       "    </tr>\n",
       "    <tr>\n",
       "      <th>2</th>\n",
       "      <td>RT @sm_kaylor: I don’t want to hear about lack of workers or allies “professionalism” when SPD management are going through my Instagram st…</td>\n",
       "      <td>2020-12-21 00:11:21</td>\n",
       "    </tr>\n",
       "    <tr>\n",
       "      <th>3</th>\n",
       "      <td>RT @KisanEktaMarch: Facebook recently bought 10% stake in Reliance Jio.\\n\\nClosure of Kisan Ekta Morcha's page citing community standards is…</td>\n",
       "      <td>2020-12-21 00:11:20</td>\n",
       "    </tr>\n",
       "    <tr>\n",
       "      <th>4</th>\n",
       "      <td>RT @SmallStreamersC: It's daily promotion tweet time! 👇👇👇👇👇👇 \\n \\n Retweet this tweet then reply with your Twitch, Facebook, or YouTube chann…</td>\n",
       "      <td>2020-12-21 00:11:19</td>\n",
       "    </tr>\n",
       "  </tbody>\n",
       "</table>\n",
       "</div>"
      ],
      "text/plain": [
       "                                                                                                                                             text  \\\n",
       "0     RT @albertraqueno: opened facebook and saw a post about the murder. you know what’s alarming? they’re tagging raffy tulfo. a lot of people…   \n",
       "1                   RT @penguningning: Hueningkai's uncle posted this on facebook and i'm SHOOK\\n@TXT_members @TXT_bighit https://t.co/fWZA1XBOcg   \n",
       "2    RT @sm_kaylor: I don’t want to hear about lack of workers or allies “professionalism” when SPD management are going through my Instagram st…   \n",
       "3   RT @KisanEktaMarch: Facebook recently bought 10% stake in Reliance Jio.\\n\\nClosure of Kisan Ekta Morcha's page citing community standards is…   \n",
       "4  RT @SmallStreamersC: It's daily promotion tweet time! 👇👇👇👇👇👇 \\n \\n Retweet this tweet then reply with your Twitch, Facebook, or YouTube chann…   \n",
       "\n",
       "            timestamp  \n",
       "0 2020-12-21 00:11:22  \n",
       "1 2020-12-21 00:11:21  \n",
       "2 2020-12-21 00:11:21  \n",
       "3 2020-12-21 00:11:20  \n",
       "4 2020-12-21 00:11:19  "
      ]
     },
     "execution_count": 26,
     "metadata": {},
     "output_type": "execute_result"
    }
   ],
   "source": [
    "#clean text\n",
    "\n",
    "#define the emoticons characters\n",
    "emoji_pattern = re.compile(\"[\"\n",
    "        u\"\\U0001F600-\\U0001F64F\"  # emoticons\n",
    "        u\"\\U0001F300-\\U0001F5FF\"  # symbols & pictographs\n",
    "        u\"\\U0001F680-\\U0001F6FF\"  # transport & map symbols\n",
    "        u\"\\U0001F1E0-\\U0001F1FF\"  # flags (iOS)\n",
    "                           \"]+\", flags=re.UNICODE)\n",
    "\n",
    "#make a cleaning tools\n",
    "def cleantext(text):\n",
    "  text = text.lower()\n",
    "  text = re.sub(r'@[A-Za-z0-9]+','', text)\n",
    "  text = re.sub(r'[#?\"@]', '', text)\n",
    "  text = re.sub(r'rt[\\s]+', '', text)\n",
    "  text = re.sub(r'https?:\\/\\/\\S+', '', text)\n",
    "  text = re.sub(r'[*_!!!…('',,)☝🥴🧀🧍🧚🧚♂🤩🦦🧲🪓⛓⛓⚔⚒]', '', text)\n",
    "  text = re.sub(r'-', '', text)\n",
    "  text = re.sub('\\w*\\d\\w*', '', text)\n",
    "  text = re.sub(r'\\n', ' ', text)\n",
    "  text = re.sub('rt :', '', text)\n",
    "  text = re.sub('RT', '', text)\n",
    "  text = re.sub(': ', '', text)\n",
    "  text = re.sub('%s', '', text)\n",
    "  text = re.sub('jenniijennnii', '', text)\n",
    "  text = re.sub('nuggithhhhmmmrrghh', '', text)\n",
    "  text = re.sub('[/@\"-(),.''?!»“”~랴밥:«...☀🥰🤔🥺❄️|🤷‍♀;—♥•♡🥳❤✨🪐]', '', text)\n",
    "  text = emoji_pattern.sub(r'', text)\n",
    "  text = re.sub('[%s]' % re.escape(string.punctuation), '', text)\n",
    "  return text"
   ]
  },
  {
   "cell_type": "code",
   "execution_count": null,
   "metadata": {},
   "outputs": [],
   "source": [
    "#Perform the cleaning process\n",
    "df['text'] = df['text'].apply(cleantext)\n",
    "#df.head(10)  #see the results"
   ]
  },
  {
   "cell_type": "markdown",
   "metadata": {},
   "source": [
    "# Perform sentiment analysis: TextBlob"
   ]
  },
  {
   "cell_type": "code",
   "execution_count": 28,
   "metadata": {
    "collapsed": true
   },
   "outputs": [
    {
     "data": {
      "text/html": [
       "<div>\n",
       "<style scoped>\n",
       "    .dataframe tbody tr th:only-of-type {\n",
       "        vertical-align: middle;\n",
       "    }\n",
       "\n",
       "    .dataframe tbody tr th {\n",
       "        vertical-align: top;\n",
       "    }\n",
       "\n",
       "    .dataframe thead th {\n",
       "        text-align: right;\n",
       "    }\n",
       "</style>\n",
       "<table border=\"1\" class=\"dataframe\">\n",
       "  <thead>\n",
       "    <tr style=\"text-align: right;\">\n",
       "      <th></th>\n",
       "      <th>text</th>\n",
       "      <th>timestamp</th>\n",
       "      <th>polarity</th>\n",
       "      <th>subjectivity</th>\n",
       "    </tr>\n",
       "  </thead>\n",
       "  <tbody>\n",
       "    <tr>\n",
       "      <th>0</th>\n",
       "      <td>opened facebook and saw a post about the murder you know what’s alarming they’re tagging raffy tulfo a lot of people</td>\n",
       "      <td>2020-12-21 00:11:22</td>\n",
       "      <td>-0.100000</td>\n",
       "      <td>0.600000</td>\n",
       "    </tr>\n",
       "    <tr>\n",
       "      <th>1</th>\n",
       "      <td>hueningkais uncle posted this on facebook and im shook members bighit</td>\n",
       "      <td>2020-12-21 00:11:21</td>\n",
       "      <td>0.000000</td>\n",
       "      <td>0.000000</td>\n",
       "    </tr>\n",
       "    <tr>\n",
       "      <th>2</th>\n",
       "      <td>kaylori don’t want to hear about lack of workers or allies professionalism when spd management are going through my instagram st</td>\n",
       "      <td>2020-12-21 00:11:21</td>\n",
       "      <td>0.000000</td>\n",
       "      <td>0.000000</td>\n",
       "    </tr>\n",
       "    <tr>\n",
       "      <th>3</th>\n",
       "      <td>facebook recently bought  stake in reliance jio  closure of kisan ekta morchas page citing community standards is</td>\n",
       "      <td>2020-12-21 00:11:20</td>\n",
       "      <td>0.000000</td>\n",
       "      <td>0.250000</td>\n",
       "    </tr>\n",
       "    <tr>\n",
       "      <th>4</th>\n",
       "      <td>its daily promotion tweet time      retweet this tweet then reply with your twitch facebook or youtube chann</td>\n",
       "      <td>2020-12-21 00:11:19</td>\n",
       "      <td>0.000000</td>\n",
       "      <td>0.000000</td>\n",
       "    </tr>\n",
       "    <tr>\n",
       "      <th>...</th>\n",
       "      <td>...</td>\n",
       "      <td>...</td>\n",
       "      <td>...</td>\n",
       "      <td>...</td>\n",
       "    </tr>\n",
       "    <tr>\n",
       "      <th>995</th>\n",
       "      <td>wishing you and your family a very merry christmas thanks for the facebook lives through all of this</td>\n",
       "      <td>2020-12-21 00:04:11</td>\n",
       "      <td>0.200000</td>\n",
       "      <td>0.250000</td>\n",
       "    </tr>\n",
       "    <tr>\n",
       "      <th>996</th>\n",
       "      <td>jupiter and saturn  will come together to form one bright point of light or what some refer to as christmas star an</td>\n",
       "      <td>2020-12-21 00:04:10</td>\n",
       "      <td>0.550000</td>\n",
       "      <td>0.750000</td>\n",
       "    </tr>\n",
       "    <tr>\n",
       "      <th>997</th>\n",
       "      <td>bloody home invasion by  pit bulls kills  family dogsthe pictures are seriously gutwrenching blood smeared all over fur</td>\n",
       "      <td>2020-12-21 00:04:10</td>\n",
       "      <td>-0.566667</td>\n",
       "      <td>0.783333</td>\n",
       "    </tr>\n",
       "    <tr>\n",
       "      <th>998</th>\n",
       "      <td>whofacebook unpublished kisan ekta morcha page but didnt take any action on bajrang dal fb page  thats like arresting dr kaf</td>\n",
       "      <td>2020-12-21 00:04:10</td>\n",
       "      <td>0.100000</td>\n",
       "      <td>0.100000</td>\n",
       "    </tr>\n",
       "    <tr>\n",
       "      <th>999</th>\n",
       "      <td>miss crowdfunding in the year wo cons panel catch it on replay learn how</td>\n",
       "      <td>2020-12-21 00:04:10</td>\n",
       "      <td>0.000000</td>\n",
       "      <td>0.000000</td>\n",
       "    </tr>\n",
       "  </tbody>\n",
       "</table>\n",
       "<p>1000 rows × 4 columns</p>\n",
       "</div>"
      ],
      "text/plain": [
       "                                                                                                                                 text  \\\n",
       "0                opened facebook and saw a post about the murder you know what’s alarming they’re tagging raffy tulfo a lot of people   \n",
       "1                                                              hueningkais uncle posted this on facebook and im shook members bighit    \n",
       "2    kaylori don’t want to hear about lack of workers or allies professionalism when spd management are going through my instagram st   \n",
       "3                   facebook recently bought  stake in reliance jio  closure of kisan ekta morchas page citing community standards is   \n",
       "4                        its daily promotion tweet time      retweet this tweet then reply with your twitch facebook or youtube chann   \n",
       "..                                                                                                                                ...   \n",
       "995                             wishing you and your family a very merry christmas thanks for the facebook lives through all of this    \n",
       "996               jupiter and saturn  will come together to form one bright point of light or what some refer to as christmas star an   \n",
       "997           bloody home invasion by  pit bulls kills  family dogsthe pictures are seriously gutwrenching blood smeared all over fur   \n",
       "998      whofacebook unpublished kisan ekta morcha page but didnt take any action on bajrang dal fb page  thats like arresting dr kaf   \n",
       "999                                                       miss crowdfunding in the year wo cons panel catch it on replay learn how      \n",
       "\n",
       "              timestamp  polarity  subjectivity  \n",
       "0   2020-12-21 00:11:22 -0.100000      0.600000  \n",
       "1   2020-12-21 00:11:21  0.000000      0.000000  \n",
       "2   2020-12-21 00:11:21  0.000000      0.000000  \n",
       "3   2020-12-21 00:11:20  0.000000      0.250000  \n",
       "4   2020-12-21 00:11:19  0.000000      0.000000  \n",
       "..                  ...       ...           ...  \n",
       "995 2020-12-21 00:04:11  0.200000      0.250000  \n",
       "996 2020-12-21 00:04:10  0.550000      0.750000  \n",
       "997 2020-12-21 00:04:10 -0.566667      0.783333  \n",
       "998 2020-12-21 00:04:10  0.100000      0.100000  \n",
       "999 2020-12-21 00:04:10  0.000000      0.000000  \n",
       "\n",
       "[1000 rows x 4 columns]"
      ]
     },
     "execution_count": 28,
     "metadata": {},
     "output_type": "execute_result"
    }
   ],
   "source": [
    "from textblob import TextBlob\n",
    "\n",
    "pol = lambda x: TextBlob(x).sentiment.polarity\n",
    "sub = lambda x: TextBlob(x).sentiment.subjectivity\n",
    "\n",
    "df['polarity'] = df['text'].apply(pol)\n",
    "df['subjectivity'] = df['text'].apply(sub)\n",
    "#df"
   ]
  },
  {
   "cell_type": "markdown",
   "metadata": {},
   "source": [
    "# Visualize the data: Matplotlib"
   ]
  },
  {
   "cell_type": "code",
   "execution_count": 31,
   "metadata": {
    "collapsed": true
   },
   "outputs": [
    {
     "data": {
      "image/png": "[encoded data removed]",
      "text/plain": [
       "<Figure size 720x576 with 1 Axes>"
      ]
     },
     "metadata": {
      "needs_background": "light"
     },
     "output_type": "display_data"
    }
   ],
   "source": [
    "import matplotlib.pyplot as plt\n",
    "%matplotlib inline\n",
    "\n",
    "plt.rcParams['figure.figsize'] = [10, 8]\n",
    "\n",
    "for n, comedian in enumerate(df.index):\n",
    "    x = df.polarity\n",
    "    y = df.subjectivity\n",
    "    plt.scatter(x, y, color='black')\n",
    "    #plt.text(x+.001, y+.001,fontsize=10)\n",
    "    #plt.xlim(-1, 1) \n",
    "\n",
    "font = {'family': 'serif',\n",
    "        'color':  'blue',\n",
    "        'weight': 'normal',\n",
    "        'size': 18,\n",
    "        }\n",
    "\n",
    "font2 = {'family': 'serif',\n",
    "        'color':  'black',\n",
    "        'weight': 'normal',\n",
    "        'size': 5,\n",
    "        } \n",
    "\n",
    "plt.title('Facebook Sentiment', fontdict= font ,fontsize=20)\n",
    "plt.xlabel('<-- Negative sentiment                              Positive sentiment -->', fontdict= font2, fontsize=15)\n",
    "plt.ylabel('<-- Facts                              Opinions -->', fontdict= font2, fontsize=15)\n",
    "\n",
    "plt.show()"
   ]
  }
 ],
 "metadata": {
  "kernelspec": {
   "display_name": "Python 3",
   "language": "python",
   "name": "python3"
  },
  "language_info": {
   "codemirror_mode": {
    "name": "ipython",
    "version": 3
   },
   "file_extension": ".py",
   "mimetype": "text/x-python",
   "name": "python",
   "nbconvert_exporter": "python",
   "pygments_lexer": "ipython3",
   "version": "3.7.6"
  }
 },
 "nbformat": 4,
 "nbformat_minor": 4
}
